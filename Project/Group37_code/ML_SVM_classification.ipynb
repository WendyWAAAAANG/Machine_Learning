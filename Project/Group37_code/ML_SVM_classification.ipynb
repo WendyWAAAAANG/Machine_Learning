{
  "nbformat": 4,
  "nbformat_minor": 0,
  "metadata": {
    "colab": {
      "provenance": [],
      "machine_shape": "hm",
      "gpuType": "T4"
    },
    "kernelspec": {
      "name": "python3",
      "display_name": "Python 3"
    },
    "language_info": {
      "name": "python"
    },
    "accelerator": "GPU",
    "gpuClass": "standard"
  },
  "cells": [
    {
      "cell_type": "markdown",
      "source": [
        "SVM_Compare"
      ],
      "metadata": {
        "id": "EJMbWKLVnacJ"
      }
    },
    {
      "cell_type": "code",
      "source": [
        "!pip install torchmetrics\n",
        "!pip install pytorch_lightning"
      ],
      "metadata": {
        "id": "ZfxO4F5loIe4"
      },
      "execution_count": null,
      "outputs": []
    },
    {
      "cell_type": "code",
      "source": [
        "from google.colab import drive\n",
        "drive.mount('/content/drive')\n",
        "\n",
        "import os\n",
        "from PIL import Image\n",
        "from sklearn import svm\n",
        "from sklearn.model_selection import train_test_split\n",
        "from torchvision import transforms\n",
        "\n",
        "# image data augmentation\n",
        "data_transforms = transforms.Compose([\n",
        "    transforms.Resize((224, 224)),\n",
        "    transforms.RandomHorizontalFlip(),\n",
        "    transforms.RandomRotation(30),\n",
        "    transforms.ColorJitter(brightness=0.1, contrast=0.1, saturation=0.1, hue=0.1),\n",
        "    transforms.ToTensor(),\n",
        "    transforms.Normalize(mean=[0.485, 0.456, 0.406], std=[0.229, 0.224, 0.225])\n",
        "])\n",
        "\n",
        "# load data from the file\n",
        "def load_data(data_dir):\n",
        "    images = []\n",
        "    labels = []\n",
        "    for folder in os.listdir(data_dir):\n",
        "        label = folder\n",
        "        folder_path = os.path.join(data_dir, folder)\n",
        "        for file in os.listdir(folder_path):\n",
        "            file_path = os.path.join(folder_path, file)\n",
        "            image = Image.open(file_path)\n",
        "            image = data_transforms(image)\n",
        "            images.append(image)\n",
        "            labels.append(label)\n",
        "    return images, labels\n",
        "\n",
        "# data file link\n",
        "data_dir = '/content/drive/MyDrive/ML/isic2'\n",
        "images, labels = load_data(data_dir)\n",
        "\n",
        "# split train set and test set\n",
        "X_train, X_test, y_train, y_test = train_test_split(images, labels, test_size=0.3)\n",
        "\n",
        "# transform the image daata into two dimension array\n",
        "def flatten(images):\n",
        "    return [image.view(-1).numpy() for image in images]\n",
        "\n",
        "X_train = flatten(X_train)\n",
        "X_test = flatten(X_test)\n",
        "\n"
      ],
      "metadata": {
        "id": "1WcGccYYG9oH",
        "colab": {
          "base_uri": "https://localhost:8080/"
        },
        "outputId": "132c0fdc-8083-43ba-a822-a58a64e9b54f"
      },
      "execution_count": 20,
      "outputs": [
        {
          "output_type": "stream",
          "name": "stdout",
          "text": [
            "Drive already mounted at /content/drive; to attempt to forcibly remount, call drive.mount(\"/content/drive\", force_remount=True).\n"
          ]
        }
      ]
    },
    {
      "cell_type": "code",
      "source": [
        "\n",
        "# clf = svm.SVC(gamma=0.1, C=1., probability=True)\n",
        "# clf = svm.SVC(gamma='auto', C=10.)\n",
        "clf = svm.SVC()\n",
        "clf.fit(X_train, y_train)\n",
        "\n",
        "\n",
        "accuracy = clf.score(X_test, y_test)\n",
        "print('Accuracy:', accuracy)\n",
        "\n",
        "# 在SVC模型中,gamma参数的默认值为'auto',\n",
        "# 且使用1/n_features作为gamma的值,\n",
        "# 其中n_features是特征的数量。如果gamma参数的值为'scale',\n",
        "# 则使用1 / (n_features * X.var())作为gamma的值,其中X.var()是输入数据的方差\n",
        "# 当gamma参数的值为'auto'或'scale'时,SVC模型会根据输入数据的特性自动选择gamma的值\n",
        "\n"
      ],
      "metadata": {
        "colab": {
          "base_uri": "https://localhost:8080/"
        },
        "id": "NYY26Tb91qBy",
        "outputId": "c04e5577-8a0a-45fe-d990-181916b6792f"
      },
      "execution_count": 28,
      "outputs": [
        {
          "output_type": "stream",
          "name": "stdout",
          "text": [
            "Accuracy: 0.7763157894736842\n"
          ]
        }
      ]
    },
    {
      "cell_type": "code",
      "source": [
        "from sklearn.metrics import accuracy_score, precision_score, recall_score, f1_score, roc_curve, auc\n",
        "\n",
        "y_pred = clf.predict(X_test)\n",
        "\n",
        "acc = accuracy_score(y_test, y_pred)\n",
        "print(\"Accuracy: {:.4f}\".format(acc))\n",
        "\n",
        "precision = precision_score(y_test, y_pred, pos_label='M')\n",
        "# precision = precision_score(y_test, y_pred,average='weighted')\n",
        "print(\"Precision: {:.4f}\".format(precision))\n",
        "\n",
        "recall = recall_score(y_test, y_pred, pos_label='M')\n",
        "# recall = recall_score(y_test, y_pred,average='weighted')\n",
        "print(\"Recall: {:.4f}\".format(recall))\n",
        "\n",
        "f1 = f1_score(y_test, y_pred, pos_label='M')\n",
        "# f1 = f1_score(y_test, y_pred,average='weighted')\n",
        "print(\"F1-score: {:.4f}\".format(f1))"
      ],
      "metadata": {
        "colab": {
          "base_uri": "https://localhost:8080/"
        },
        "id": "DQmyNX7SVGwW",
        "outputId": "9c34fab7-5ea4-4a8a-f1ed-98808faa1f09"
      },
      "execution_count": 29,
      "outputs": [
        {
          "output_type": "stream",
          "name": "stdout",
          "text": [
            "Accuracy: 0.7763\n",
            "Precision: 0.8167\n",
            "Recall: 0.8909\n",
            "F1-score: 0.8522\n"
          ]
        }
      ]
    },
    {
      "cell_type": "code",
      "source": [
        "from sklearn.model_selection import GridSearchCV\n",
        "from sklearn import svm\n",
        "# define svm prediction model\n",
        "svm_model = svm.SVC(kernel='rbf')\n",
        "\n",
        "# define the hperparameters\n",
        "param_grid = {'C': [0.1, 1., 10., 100.], 'gamma': ['scale','auto', 0.01, 0.1, 1, 10]}\n",
        "\n",
        "# GridSearchCV to do the cross validation\n",
        "grid_search = GridSearchCV(svm_model, param_grid, cv=5)\n",
        "grid_search.fit(X_train, y_train)\n",
        "accuracy = grid_search.score(X_test, y_test)\n",
        "print('Accuracy:', accuracy)\n",
        "# output the scores\n",
        "print('Best parameters:', grid_search.best_params_)\n",
        "print('Best score:', grid_search.best_score_)\n"
      ],
      "metadata": {
        "colab": {
          "base_uri": "https://localhost:8080/"
        },
        "id": "PC8rCK7l-8EY",
        "outputId": "7588b6a9-267d-4bbe-8f17-811cc113cb83"
      },
      "execution_count": 23,
      "outputs": [
        {
          "output_type": "stream",
          "name": "stdout",
          "text": [
            "Accuracy: 0.7543859649122807\n",
            "Best parameters: {'C': 10.0, 'gamma': 'auto'}\n",
            "Best score: 0.7849056603773585\n"
          ]
        }
      ]
    },
    {
      "cell_type": "code",
      "source": [
        "# data_dir = '/content/drive/MyDrive/ML/classification'\n",
        "# img, l = load_data(data_dir)\n",
        "# imgs = flatten(img)\n",
        "# pred = clf.predict(imgs)\n",
        "# print(pred)"
      ],
      "metadata": {
        "id": "HuWTimpZ6ojO"
      },
      "execution_count": 24,
      "outputs": []
    },
    {
      "cell_type": "code",
      "source": [
        "import os\n",
        "import cv2\n",
        "import numpy as np\n",
        "from sklearn import svm\n",
        "from sklearn.model_selection import train_test_split\n",
        "from sklearn.metrics import accuracy_score\n",
        "\n",
        "\n",
        "import numpy as np\n",
        "import pandas as pd\n",
        "import matplotlib.pyplot as plt\n",
        "import os\n",
        "\n",
        "import torch\n",
        "import torchvision\n",
        "import torch.nn as nn\n",
        "import torchmetrics\n",
        "from torchvision import transforms\n",
        "\n",
        "import torchvision.models as models\n",
        "from torch.utils.data import DataLoader, Dataset,random_split\n",
        "from pytorch_lightning import seed_everything, LightningModule, Trainer\n",
        "from sklearn.metrics import classification_report\n",
        "\n",
        "\n",
        "\n",
        "# path\n",
        "data_dir = '/content/drive/MyDrive/ML/isic2'\n",
        "categories = ['M', 'WM']\n",
        "\n",
        "# transform the image data into feature vectors\n",
        "def extract_features(img):\n",
        "    # use OpenCV convert the image into grayscale，and resize\n",
        "    gray = cv2.resize(cv2.cvtColor(img, cv2.COLOR_BGR2GRAY), (50, 50))\n",
        "    # reshape into 1-dimension\n",
        "    features = np.reshape(gray, (1, -1))\n",
        "    return features\n",
        "\n",
        "# load dataset\n",
        "data = []\n",
        "labels = []\n",
        "for category in categories:\n",
        "    category_dir = os.path.join(data_dir, category)\n",
        "    for filename in os.listdir(category_dir):\n",
        "        img_path = os.path.join(category_dir, filename)\n",
        "        img = cv2.imread(img_path)\n",
        "        if img is not None:\n",
        "            features = extract_features(img)\n",
        "            data.append(features)\n",
        "            labels.append(category)\n",
        "\n",
        "# transform into numpy array\n",
        "data = np.concatenate(data, axis=0)\n",
        "labels = np.array(labels)\n",
        "\n",
        "# split\n",
        "X_train, X_test, y_train, y_test = train_test_split(data, labels, test_size=0.2, random_state=42)\n",
        "\n",
        "# use SVM to do the classification\n",
        "clf = svm.SVC(C=1.0, kernel='linear', decision_function_shape='ovr')\n",
        "clf.fit(X_train, y_train)\n",
        "\n",
        "# predict and calculate the accuracy\n",
        "y_pred = clf.predict(X_test)\n",
        "accuracy = accuracy_score(y_test, y_pred)\n",
        "print(\"Accuracy: {:.2f}%\".format(accuracy * 100))\n"
      ],
      "metadata": {
        "colab": {
          "base_uri": "https://localhost:8080/"
        },
        "id": "3m6SP3ovl7xe",
        "outputId": "34f43cd2-af5c-430c-9e2c-b05719d9dfb5"
      },
      "execution_count": 25,
      "outputs": [
        {
          "output_type": "stream",
          "name": "stdout",
          "text": [
            "Accuracy: 65.79%\n"
          ]
        }
      ]
    },
    {
      "cell_type": "code",
      "source": [
        "from sklearn.metrics import accuracy_score, precision_score, recall_score, f1_score, roc_curve, auc\n",
        "\n",
        "y_pred = clf.predict(X_test)\n",
        "\n",
        "acc = accuracy_score(y_test, y_pred)\n",
        "print(\"Accuracy: {:.4f}\".format(acc))\n",
        "\n",
        "precision = precision_score(y_test, y_pred, pos_label='M')\n",
        "# precision = precision_score(y_test, y_pred,average='weighted')\n",
        "print(\"Precision: {:.4f}\".format(precision))\n",
        "\n",
        "recall = recall_score(y_test, y_pred, pos_label='M')\n",
        "# recall = recall_score(y_test, y_pred,average='weighted')\n",
        "print(\"Recall: {:.4f}\".format(recall))\n",
        "\n",
        "f1 = f1_score(y_test, y_pred, pos_label='M')\n",
        "# f1 = f1_score(y_test, y_pred,average='weighted')\n",
        "print(\"F1-score: {:.4f}\".format(f1))"
      ],
      "metadata": {
        "colab": {
          "base_uri": "https://localhost:8080/"
        },
        "id": "RqO4xs-7mEwO",
        "outputId": "2ca8ab29-fa67-45e3-b4eb-07240bf95545"
      },
      "execution_count": 26,
      "outputs": [
        {
          "output_type": "stream",
          "name": "stdout",
          "text": [
            "Accuracy: 0.6579\n",
            "Precision: 0.7843\n",
            "Recall: 0.7273\n",
            "F1-score: 0.7547\n"
          ]
        }
      ]
    }
  ]
}