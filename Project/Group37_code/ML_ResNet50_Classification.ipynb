{
 "cells": [
  {
   "cell_type": "code",
   "execution_count": 1,
   "id": "87b6e319",
   "metadata": {
    "_cell_guid": "b1076dfc-b9ad-4769-8c92-a6c4dae69d19",
    "_uuid": "8f2839f25d086af736a60e9eeb907d3b93b6e0e5",
    "execution": {
     "iopub.execute_input": "2023-05-20T15:18:18.508299Z",
     "iopub.status.busy": "2023-05-20T15:18:18.507882Z",
     "iopub.status.idle": "2023-05-20T15:18:26.676118Z",
     "shell.execute_reply": "2023-05-20T15:18:26.674868Z"
    },
    "papermill": {
     "duration": 8.17834,
     "end_time": "2023-05-20T15:18:26.678829",
     "exception": false,
     "start_time": "2023-05-20T15:18:18.500489",
     "status": "completed"
    },
    "tags": []
   },
   "outputs": [
    {
     "name": "stderr",
     "output_type": "stream",
     "text": [
      "/opt/conda/lib/python3.10/site-packages/scipy/__init__.py:146: UserWarning: A NumPy version >=1.16.5 and <1.23.0 is required for this version of SciPy (detected version 1.23.5\n",
      "  warnings.warn(f\"A NumPy version >={np_minversion} and <{np_maxversion}\"\n"
     ]
    }
   ],
   "source": [
    "import pandas as pd\n",
    "import numpy as np \n",
    "import cv2\n",
    "import tensorflow as tf\n",
    "from tensorflow.keras.applications.resnet50 import ResNet50, preprocess_input\n",
    "from tensorflow.keras.layers import Dense, Flatten, GlobalAveragePooling2D, Dropout\n",
    "from tensorflow.keras.models import Sequential, Model\n",
    "from tensorflow.keras.preprocessing.image import ImageDataGenerator, load_img, img_to_array\n",
    "from tensorflow.keras.optimizers import Adam\n",
    "from tensorflow.keras.callbacks import ModelCheckpoint, EarlyStopping\n",
    "from sklearn.utils import class_weight\n",
    "import os"
   ]
  },
  {
   "attachments": {},
   "cell_type": "markdown",
   "id": "219934bc",
   "metadata": {
    "papermill": {
     "duration": 0.003882,
     "end_time": "2023-05-20T15:18:26.687154",
     "exception": false,
     "start_time": "2023-05-20T15:18:26.683272",
     "status": "completed"
    },
    "tags": []
   },
   "source": [
    "os.listdir(\"../input/\")\n",
    "basepath = \"../input/siim-isic-melanoma-classification/\"\n",
    "modelspath = \"../input/pytorch-pretrained-image-models/\""
   ]
  },
  {
   "cell_type": "code",
   "execution_count": 2,
   "id": "afc4cbd9",
   "metadata": {
    "execution": {
     "iopub.execute_input": "2023-05-20T15:18:26.696895Z",
     "iopub.status.busy": "2023-05-20T15:18:26.696217Z",
     "iopub.status.idle": "2023-05-20T15:18:26.706351Z",
     "shell.execute_reply": "2023-05-20T15:18:26.705436Z"
    },
    "papermill": {
     "duration": 0.017756,
     "end_time": "2023-05-20T15:18:26.708823",
     "exception": false,
     "start_time": "2023-05-20T15:18:26.691067",
     "status": "completed"
    },
    "tags": []
   },
   "outputs": [],
   "source": [
    "def map_imgs(meta_file_path, image_file_path):\n",
    "    IMAGE_PATH = image_file_path\n",
    "#     meta_file= '/kaggle/input/siim-isic-melanoma-classification/train.csv'\n",
    "#     IMAGE_PATH = '/kaggle/input/siim-isic-melanoma-classification/jpeg/train'\n",
    "    \n",
    "    df = pd.read_csv(meta_file_path)\n",
    "\n",
    "    # adding new column = filepath (complete image path)\n",
    "    df['image_path'] = df['image_name'].map(lambda x:  os.path.join(IMAGE_PATH,x+'.jpg'))\n",
    "\n",
    "    # mapping dictionary\n",
    "    labelmap = {}\n",
    "    for l in df.target.unique().tolist():\n",
    "        if l == 1:\n",
    "            labelmap[l] = 'melanoma'\n",
    "        else:\n",
    "            labelmap[l] = 'benign'\n",
    "\n",
    "    # seperate list of image that are labelled = melanoma\n",
    "    df_melanoma = df[df['target'] == 1]\n",
    "    df_melanoma.reset_index(drop=True, inplace=True)\n",
    "\n",
    "    # view \n",
    "    print(f\"Found {df.groupby('target').count()['image_name'][1]} images that are labelled = melanoma and {df.groupby('target').count()['image_name'][0]} that are labelled = benign\")\n",
    "    return df"
   ]
  },
  {
   "cell_type": "code",
   "execution_count": 3,
   "id": "2ac1954e",
   "metadata": {
    "execution": {
     "iopub.execute_input": "2023-05-20T15:18:26.718357Z",
     "iopub.status.busy": "2023-05-20T15:18:26.718059Z",
     "iopub.status.idle": "2023-05-20T15:18:27.076506Z",
     "shell.execute_reply": "2023-05-20T15:18:27.075481Z"
    },
    "papermill": {
     "duration": 0.365848,
     "end_time": "2023-05-20T15:18:27.078809",
     "exception": false,
     "start_time": "2023-05-20T15:18:26.712961",
     "status": "completed"
    },
    "tags": []
   },
   "outputs": [
    {
     "name": "stdout",
     "output_type": "stream",
     "text": [
      "Found 584 images that are labelled = melanoma and 32542 that are labelled = benign\n"
     ]
    },
    {
     "data": {
      "text/html": [
       "<div>\n",
       "<style scoped>\n",
       "    .dataframe tbody tr th:only-of-type {\n",
       "        vertical-align: middle;\n",
       "    }\n",
       "\n",
       "    .dataframe tbody tr th {\n",
       "        vertical-align: top;\n",
       "    }\n",
       "\n",
       "    .dataframe thead th {\n",
       "        text-align: right;\n",
       "    }\n",
       "</style>\n",
       "<table border=\"1\" class=\"dataframe\">\n",
       "  <thead>\n",
       "    <tr style=\"text-align: right;\">\n",
       "      <th></th>\n",
       "      <th>target</th>\n",
       "      <th>image_path</th>\n",
       "    </tr>\n",
       "  </thead>\n",
       "  <tbody>\n",
       "    <tr>\n",
       "      <th>0</th>\n",
       "      <td>0</td>\n",
       "      <td>/kaggle/input/siim-isic-melanoma-classificatio...</td>\n",
       "    </tr>\n",
       "    <tr>\n",
       "      <th>1</th>\n",
       "      <td>0</td>\n",
       "      <td>/kaggle/input/siim-isic-melanoma-classificatio...</td>\n",
       "    </tr>\n",
       "    <tr>\n",
       "      <th>2</th>\n",
       "      <td>0</td>\n",
       "      <td>/kaggle/input/siim-isic-melanoma-classificatio...</td>\n",
       "    </tr>\n",
       "    <tr>\n",
       "      <th>3</th>\n",
       "      <td>0</td>\n",
       "      <td>/kaggle/input/siim-isic-melanoma-classificatio...</td>\n",
       "    </tr>\n",
       "    <tr>\n",
       "      <th>4</th>\n",
       "      <td>0</td>\n",
       "      <td>/kaggle/input/siim-isic-melanoma-classificatio...</td>\n",
       "    </tr>\n",
       "    <tr>\n",
       "      <th>...</th>\n",
       "      <td>...</td>\n",
       "      <td>...</td>\n",
       "    </tr>\n",
       "    <tr>\n",
       "      <th>33121</th>\n",
       "      <td>0</td>\n",
       "      <td>/kaggle/input/siim-isic-melanoma-classificatio...</td>\n",
       "    </tr>\n",
       "    <tr>\n",
       "      <th>33122</th>\n",
       "      <td>0</td>\n",
       "      <td>/kaggle/input/siim-isic-melanoma-classificatio...</td>\n",
       "    </tr>\n",
       "    <tr>\n",
       "      <th>33123</th>\n",
       "      <td>0</td>\n",
       "      <td>/kaggle/input/siim-isic-melanoma-classificatio...</td>\n",
       "    </tr>\n",
       "    <tr>\n",
       "      <th>33124</th>\n",
       "      <td>0</td>\n",
       "      <td>/kaggle/input/siim-isic-melanoma-classificatio...</td>\n",
       "    </tr>\n",
       "    <tr>\n",
       "      <th>33125</th>\n",
       "      <td>0</td>\n",
       "      <td>/kaggle/input/siim-isic-melanoma-classificatio...</td>\n",
       "    </tr>\n",
       "  </tbody>\n",
       "</table>\n",
       "<p>33126 rows × 2 columns</p>\n",
       "</div>"
      ],
      "text/plain": [
       "      target                                         image_path\n",
       "0          0  /kaggle/input/siim-isic-melanoma-classificatio...\n",
       "1          0  /kaggle/input/siim-isic-melanoma-classificatio...\n",
       "2          0  /kaggle/input/siim-isic-melanoma-classificatio...\n",
       "3          0  /kaggle/input/siim-isic-melanoma-classificatio...\n",
       "4          0  /kaggle/input/siim-isic-melanoma-classificatio...\n",
       "...      ...                                                ...\n",
       "33121      0  /kaggle/input/siim-isic-melanoma-classificatio...\n",
       "33122      0  /kaggle/input/siim-isic-melanoma-classificatio...\n",
       "33123      0  /kaggle/input/siim-isic-melanoma-classificatio...\n",
       "33124      0  /kaggle/input/siim-isic-melanoma-classificatio...\n",
       "33125      0  /kaggle/input/siim-isic-melanoma-classificatio...\n",
       "\n",
       "[33126 rows x 2 columns]"
      ]
     },
     "execution_count": 3,
     "metadata": {},
     "output_type": "execute_result"
    }
   ],
   "source": [
    "df_train = map_imgs(\"/kaggle/input/siim-isic-melanoma-classification/train.csv\",\"/kaggle/input/siim-isic-melanoma-classification/jpeg/train\")\n",
    "df_train= df_train[[\"target\",\"image_path\"]]\n",
    "df_train[\"target\"] = df_train[\"target\"].astype(str)\n",
    "df_train"
   ]
  },
  {
   "cell_type": "code",
   "execution_count": 4,
   "id": "371c9567",
   "metadata": {
    "execution": {
     "iopub.execute_input": "2023-05-20T15:18:27.089173Z",
     "iopub.status.busy": "2023-05-20T15:18:27.088370Z",
     "iopub.status.idle": "2023-05-20T15:19:49.729526Z",
     "shell.execute_reply": "2023-05-20T15:19:49.728651Z"
    },
    "papermill": {
     "duration": 82.648434,
     "end_time": "2023-05-20T15:19:49.731765",
     "exception": false,
     "start_time": "2023-05-20T15:18:27.083331",
     "status": "completed"
    },
    "tags": []
   },
   "outputs": [
    {
     "name": "stdout",
     "output_type": "stream",
     "text": [
      "Found 26501 validated image filenames belonging to 2 classes.\n",
      "Found 6625 validated image filenames belonging to 2 classes.\n"
     ]
    }
   ],
   "source": [
    "data_generator = ImageDataGenerator(preprocessing_function=preprocess_input, validation_split=0.2)\n",
    "train_generator = data_generator.flow_from_dataframe(df_train,\n",
    "                                              target_size= (224, 224),\n",
    "                                                     x_col='image_path',\n",
    "                                                     y_col='target',\n",
    "                                              batch_size = 128,\n",
    "                                              subset = 'training',\n",
    "                                              shuffle = True,\n",
    "                                              class_mode ='binary')\n",
    "val_generator = data_generator.flow_from_dataframe(df_train,\n",
    "                                              target_size= (224, 224),x_col='image_path',\n",
    "                                                     y_col='target',\n",
    "                                              batch_size = 128,\n",
    "                                              subset = 'validation',\n",
    "                                              shuffle = False,\n",
    "                                              class_mode ='binary')"
   ]
  },
  {
   "cell_type": "code",
   "execution_count": 5,
   "id": "793110c8",
   "metadata": {
    "execution": {
     "iopub.execute_input": "2023-05-20T15:19:49.741522Z",
     "iopub.status.busy": "2023-05-20T15:19:49.741241Z",
     "iopub.status.idle": "2023-05-20T15:19:49.830941Z",
     "shell.execute_reply": "2023-05-20T15:19:49.830015Z"
    },
    "papermill": {
     "duration": 0.096831,
     "end_time": "2023-05-20T15:19:49.832949",
     "exception": false,
     "start_time": "2023-05-20T15:19:49.736118",
     "status": "completed"
    },
    "tags": []
   },
   "outputs": [
    {
     "data": {
      "text/plain": [
       "{0: 0.5089730194825149, 1: 28.361301369863014}"
      ]
     },
     "execution_count": 5,
     "metadata": {},
     "output_type": "execute_result"
    }
   ],
   "source": [
    "class_weights = class_weight.compute_class_weight('balanced',\n",
    "                                                 classes= np.unique(df_train[\"target\"]),\n",
    "                                                 y =df_train[\"target\"])\n",
    "class_weight = dict(enumerate(class_weights.flatten(), 0))\n",
    "class_weight"
   ]
  },
  {
   "cell_type": "code",
   "execution_count": 6,
   "id": "ad18835b",
   "metadata": {
    "execution": {
     "iopub.execute_input": "2023-05-20T15:19:49.843254Z",
     "iopub.status.busy": "2023-05-20T15:19:49.842856Z",
     "iopub.status.idle": "2023-05-20T15:19:54.755850Z",
     "shell.execute_reply": "2023-05-20T15:19:54.754802Z"
    },
    "papermill": {
     "duration": 4.920771,
     "end_time": "2023-05-20T15:19:54.758295",
     "exception": false,
     "start_time": "2023-05-20T15:19:49.837524",
     "status": "completed"
    },
    "tags": []
   },
   "outputs": [
    {
     "name": "stdout",
     "output_type": "stream",
     "text": [
      "Downloading data from https://storage.googleapis.com/tensorflow/keras-applications/resnet/resnet50_weights_tf_dim_ordering_tf_kernels_notop.h5\n",
      "94765736/94765736 [==============================] - 0s 0us/step\n"
     ]
    }
   ],
   "source": [
    "base_model = ResNet50(include_top=False, pooling='avg', weights='imagenet', input_shape=(224,224,3))\n",
    "for layer in base_model.layers[:-4]:\n",
    "    layer.trainable = False"
   ]
  },
  {
   "cell_type": "code",
   "execution_count": 7,
   "id": "dde6f23a",
   "metadata": {
    "execution": {
     "iopub.execute_input": "2023-05-20T15:19:54.771319Z",
     "iopub.status.busy": "2023-05-20T15:19:54.770646Z",
     "iopub.status.idle": "2023-05-20T15:19:54.776219Z",
     "shell.execute_reply": "2023-05-20T15:19:54.775339Z"
    },
    "papermill": {
     "duration": 0.014114,
     "end_time": "2023-05-20T15:19:54.778314",
     "exception": false,
     "start_time": "2023-05-20T15:19:54.764200",
     "status": "completed"
    },
    "tags": []
   },
   "outputs": [],
   "source": [
    "STEPS_PER_EPOCH = 26501 // 128\n",
    "VALID_STEPS = 6625 // 128"
   ]
  },
  {
   "cell_type": "code",
   "execution_count": 8,
   "id": "61f35201",
   "metadata": {
    "execution": {
     "iopub.execute_input": "2023-05-20T15:19:54.789593Z",
     "iopub.status.busy": "2023-05-20T15:19:54.789328Z",
     "iopub.status.idle": "2023-05-20T23:10:10.580179Z",
     "shell.execute_reply": "2023-05-20T23:10:10.578473Z"
    },
    "papermill": {
     "duration": 28215.83621,
     "end_time": "2023-05-20T23:10:10.619676",
     "exception": false,
     "start_time": "2023-05-20T15:19:54.783466",
     "status": "completed"
    },
    "tags": []
   },
   "outputs": [
    {
     "name": "stdout",
     "output_type": "stream",
     "text": [
      "Epoch 1/10\n",
      "207/207 [==============================] - ETA: 0s - loss: 0.6299 - accuracy: 0.7083 \n",
      "Epoch 1: val_loss improved from inf to 0.47981, saving model to melanoma_model.h5\n",
      "207/207 [==============================] - 3054s 15s/step - loss: 0.6299 - accuracy: 0.7083 - val_loss: 0.4798 - val_accuracy: 0.7664\n",
      "Epoch 2/10\n",
      "207/207 [==============================] - ETA: 0s - loss: 0.4838 - accuracy: 0.7723 \n",
      "Epoch 2: val_loss did not improve from 0.47981\n",
      "207/207 [==============================] - 2737s 13s/step - loss: 0.4838 - accuracy: 0.7723 - val_loss: 0.5630 - val_accuracy: 0.7298\n",
      "Epoch 3/10\n",
      "207/207 [==============================] - ETA: 0s - loss: 0.4251 - accuracy: 0.7818 \n",
      "Epoch 3: val_loss did not improve from 0.47981\n",
      "207/207 [==============================] - 2680s 13s/step - loss: 0.4251 - accuracy: 0.7818 - val_loss: 0.4982 - val_accuracy: 0.7701\n",
      "Epoch 4/10\n",
      "207/207 [==============================] - ETA: 0s - loss: 0.3989 - accuracy: 0.8037\n",
      "Epoch 4: val_loss improved from 0.47981 to 0.40437, saving model to melanoma_model.h5\n",
      "207/207 [==============================] - 2606s 13s/step - loss: 0.3989 - accuracy: 0.8037 - val_loss: 0.4044 - val_accuracy: 0.8119\n",
      "Epoch 5/10\n",
      "207/207 [==============================] - ETA: 0s - loss: 0.3701 - accuracy: 0.8175 \n",
      "Epoch 5: val_loss improved from 0.40437 to 0.29267, saving model to melanoma_model.h5\n",
      "207/207 [==============================] - 2895s 14s/step - loss: 0.3701 - accuracy: 0.8175 - val_loss: 0.2927 - val_accuracy: 0.8722\n",
      "Epoch 6/10\n",
      "207/207 [==============================] - ETA: 0s - loss: 0.3474 - accuracy: 0.8292 \n",
      "Epoch 6: val_loss did not improve from 0.29267\n",
      "207/207 [==============================] - 2812s 14s/step - loss: 0.3474 - accuracy: 0.8292 - val_loss: 0.3822 - val_accuracy: 0.8252\n",
      "Epoch 7/10\n",
      "207/207 [==============================] - ETA: 0s - loss: 0.3307 - accuracy: 0.8373 \n",
      "Epoch 7: val_loss did not improve from 0.29267\n",
      "207/207 [==============================] - 2858s 14s/step - loss: 0.3307 - accuracy: 0.8373 - val_loss: 0.3070 - val_accuracy: 0.8657\n",
      "Epoch 8/10\n",
      "207/207 [==============================] - ETA: 0s - loss: 0.3287 - accuracy: 0.8349 \n",
      "Epoch 8: val_loss did not improve from 0.29267\n",
      "207/207 [==============================] - 2833s 14s/step - loss: 0.3287 - accuracy: 0.8349 - val_loss: 0.3821 - val_accuracy: 0.8248\n",
      "Epoch 9/10\n",
      "207/207 [==============================] - ETA: 0s - loss: 0.2982 - accuracy: 0.8526 \n",
      "Epoch 9: val_loss did not improve from 0.29267\n",
      "207/207 [==============================] - 2823s 14s/step - loss: 0.2982 - accuracy: 0.8526 - val_loss: 0.4877 - val_accuracy: 0.7691\n",
      "Epoch 10/10\n",
      "207/207 [==============================] - ETA: 0s - loss: 0.3006 - accuracy: 0.8514 \n",
      "Epoch 10: val_loss did not improve from 0.29267\n",
      "Restoring model weights from the end of the best epoch: 5.\n",
      "207/207 [==============================] - 2693s 13s/step - loss: 0.3006 - accuracy: 0.8514 - val_loss: 0.3087 - val_accuracy: 0.8594\n",
      "Epoch 10: early stopping\n"
     ]
    }
   ],
   "source": [
    "my_model = Sequential([base_model])\n",
    "# my_model.add(GlobalAveragePooling2D())\n",
    "my_model.add(Dense(512, activation='relu'))\n",
    "my_model.add(Dropout(0.5))\n",
    "my_model.add(Dense(1, activation='sigmoid'))\n",
    "\n",
    "my_model.compile(optimizer=Adam(learning_rate=0.0001),\n",
    "             loss='binary_crossentropy',\n",
    "             metrics= ['accuracy'])\n",
    "\n",
    "model_name = \"melanoma_model.h5\"\n",
    "checkpoint = ModelCheckpoint(model_name,\n",
    "                            monitor=\"val_loss\",\n",
    "                            mode=\"min\",\n",
    "                            save_best_only = True,\n",
    "                            verbose=1)\n",
    "\n",
    "earlystopping = EarlyStopping(monitor='val_loss',min_delta = 0, patience = 5, verbose = 1, restore_best_weights=True)\n",
    "\n",
    "try:\n",
    "    history = my_model.fit(train_generator,\n",
    "                           epochs=10,\n",
    "                           steps_per_epoch=STEPS_PER_EPOCH,\n",
    "                           validation_data=val_generator,\n",
    "                           validation_steps=VALID_STEPS,\n",
    "                           callbacks=[checkpoint,earlystopping],\n",
    "                           class_weight=class_weight)\n",
    "except KeyboardInterrupt:\n",
    "    print(\"\\nTraining Stopped\")"
   ]
  },
  {
   "cell_type": "code",
   "execution_count": 9,
   "id": "865ef8a9",
   "metadata": {
    "execution": {
     "iopub.execute_input": "2023-05-20T23:10:10.939145Z",
     "iopub.status.busy": "2023-05-20T23:10:10.938394Z",
     "iopub.status.idle": "2023-05-20T23:10:11.508863Z",
     "shell.execute_reply": "2023-05-20T23:10:11.507953Z"
    },
    "papermill": {
     "duration": 0.733781,
     "end_time": "2023-05-20T23:10:11.511421",
     "exception": false,
     "start_time": "2023-05-20T23:10:10.777640",
     "status": "completed"
    },
    "tags": []
   },
   "outputs": [
    {
     "data": {
      "image/png": "[encoded data removed]",
      "text/plain": [
       "<Figure size 800x800 with 2 Axes>"
      ]
     },
     "metadata": {},
     "output_type": "display_data"
    }
   ],
   "source": [
    "import matplotlib.pyplot as plt\n",
    "acc=history.history['accuracy']\n",
    "val_acc=history.history['val_accuracy']\n",
    "loss=history.history['loss']\n",
    "val_loss=history.history['val_loss']\n",
    "epochs=10\n",
    "epochs_range=range(epochs)\n",
    "\n",
    "plt.figure(figsize=(8, 8))\n",
    "plt.subplot(1, 2, 1)\n",
    "plt.plot(epochs_range, acc, label='Training Accuracy')\n",
    "plt.plot(epochs_range, val_acc, label='Validation Accuracy')\n",
    "plt.legend(loc='lower right')\n",
    "plt.title('Training and Validation Accuracy')\n",
    "\n",
    "plt.subplot(1, 2, 2)\n",
    "plt.plot(epochs_range, loss, label='Training Loss')\n",
    "plt.plot(epochs_range, val_loss, label='Validation Loss')\n",
    "plt.legend(loc='upper right')\n",
    "plt.title('Training and Validation Loss')\n",
    "plt.show()"
   ]
  },
  {
   "cell_type": "code",
   "execution_count": 10,
   "id": "26fa2a1e",
   "metadata": {
    "execution": {
     "iopub.execute_input": "2023-05-20T23:10:11.831458Z",
     "iopub.status.busy": "2023-05-20T23:10:11.831144Z",
     "iopub.status.idle": "2023-05-20T23:19:54.184586Z",
     "shell.execute_reply": "2023-05-20T23:19:54.183611Z"
    },
    "papermill": {
     "duration": 582.516098,
     "end_time": "2023-05-20T23:19:54.187718",
     "exception": false,
     "start_time": "2023-05-20T23:10:11.671620",
     "status": "completed"
    },
    "tags": []
   },
   "outputs": [
    {
     "name": "stdout",
     "output_type": "stream",
     "text": [
      "52/52 [==============================] - 569s 11s/step - loss: 0.2918 - accuracy: 0.8729\n",
      "Test loss: 0.29176241159439087\n",
      "Test accuracy: 0.8729056715965271\n"
     ]
    }
   ],
   "source": [
    "score = my_model.evaluate(val_generator)\n",
    "print('Test loss:', score[0])\n",
    "print('Test accuracy:', score[1])"
   ]
  }
 ],
 "metadata": {
  "kernelspec": {
   "display_name": "Python 3",
   "language": "python",
   "name": "python3"
  },
  "language_info": {
   "codemirror_mode": {
    "name": "ipython",
    "version": 3
   },
   "file_extension": ".py",
   "mimetype": "text/x-python",
   "name": "python",
   "nbconvert_exporter": "python",
   "pygments_lexer": "ipython3",
   "version": "3.10.10"
  },
  "papermill": {
   "default_parameters": {},
   "duration": 28909.31246,
   "end_time": "2023-05-20T23:19:57.296467",
   "environment_variables": {},
   "exception": null,
   "input_path": "__notebook__.ipynb",
   "output_path": "__notebook__.ipynb",
   "parameters": {},
   "start_time": "2023-05-20T15:18:07.984007",
   "version": "2.4.0"
  }
 },
 "nbformat": 4,
 "nbformat_minor": 5
}
